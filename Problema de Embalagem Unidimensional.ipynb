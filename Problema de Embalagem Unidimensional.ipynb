{
 "cells": [
  {
   "cell_type": "code",
   "execution_count": 1,
   "id": "e30c775a",
   "metadata": {},
   "outputs": [
    {
     "name": "stdout",
     "output_type": "stream",
     "text": [
      "Welcome to the CBC MILP Solver \n",
      "Version: devel \n",
      "Build Date: Nov 15 2020 \n",
      "\n",
      "Starting solution of the Linear programming relaxation problem using Primal Simplex\n",
      "\n",
      "Coin0506I Presolve 18 (-5) rows, 45 (-5) columns and 110 (2) elements\n",
      "Clp1000I sum of infeasibilities 2.07694e-10 - average 1.15385e-11, 0 fixed columns\n",
      "Coin0506I Presolve 18 (0) rows, 45 (0) columns and 110 (0) elements\n",
      "Clp0029I End of values pass after 45 iterations\n",
      "Clp0000I Optimal - objective value 2.652\n",
      "Clp0000I Optimal - objective value 2.652\n",
      "Coin0511I After Postsolve, objective 2.652, infeasibilities - dual 0 (0), primal 0 (0)\n",
      "Clp0000I Optimal - objective value 2.652\n",
      "Clp0000I Optimal - objective value 2.652\n",
      "Clp0000I Optimal - objective value 2.652\n",
      "Coin0511I After Postsolve, objective 2.652, infeasibilities - dual 0 (0), primal 0 (0)\n",
      "Clp0032I Optimal objective 2.652 - 0 iterations time 0.002, Presolve 0.00, Idiot 0.00\n",
      "\n",
      "Starting MIP optimization\n",
      "\n",
      "F.O: 3.0\n",
      "Solução: x[0,0] = 1.0\n",
      "          x[1,2] = 2.0\n",
      "          x[2,1] = 2.0\n",
      "          x[3,1] = 1.0\n",
      "          y[0] = 1.0\n",
      "          y[1] = 1.0\n",
      "          y[2] = 1.0\n",
      "          "
     ]
    }
   ],
   "source": [
    "from mip import Model, xsum, BINARY, INTEGER\n",
    "\n",
    "n = 10  # número máximo de barras\n",
    "L = 250  # tamanho das barras\n",
    "m = 4  # número de solicitações\n",
    "w = [187, 119, 74, 90]  # tamanho de cada item\n",
    "b = [1, 2, 2, 1]  # Demanda de para cada item\n",
    "\n",
    "# cCriação do modelo\n",
    "model = Model()\n",
    "x = {(i, j): model.add_var(obj=0, var_type=INTEGER, name=\"x[%d,%d]\" % (i, j))\n",
    "     for i in range(m) for j in range(n)}\n",
    "y = {j: model.add_var(obj=1, var_type=BINARY, name=\"y[%d]\" % j)\n",
    "     for j in range(n)}\n",
    "\n",
    "# Restrições\n",
    "for i in range(m):\n",
    "    model.add_constr(xsum(x[i, j] for j in range(n)) >= b[i])\n",
    "for j in range(n):\n",
    "    model.add_constr(xsum(w[i] * x[i, j] for i in range(m)) <= L * y[j])\n",
    "\n",
    "# restrições adicionais para reduzir a simetria\n",
    "for j in range(1, n):\n",
    "    model.add_constr(y[j - 1] >= y[j])\n",
    "\n",
    "# Otimização do modelo\n",
    "model.optimize()\n",
    "\n",
    "# Solução\n",
    "print('')\n",
    "print('F.O: {model.objective_value:.3}'.format(**locals()))\n",
    "print('Solução: ', end='')\n",
    "for v in model.vars:\n",
    "    if v.x > 1e-5:\n",
    "        print('{v.name} = {v.x}'.format(**locals()))\n",
    "        print('          ', end='')"
   ]
  },
  {
   "cell_type": "code",
   "execution_count": null,
   "id": "b0edff05",
   "metadata": {},
   "outputs": [],
   "source": []
  }
 ],
 "metadata": {
  "kernelspec": {
   "display_name": "Python 3 (ipykernel)",
   "language": "python",
   "name": "python3"
  },
  "language_info": {
   "codemirror_mode": {
    "name": "ipython",
    "version": 3
   },
   "file_extension": ".py",
   "mimetype": "text/x-python",
   "name": "python",
   "nbconvert_exporter": "python",
   "pygments_lexer": "ipython3",
   "version": "3.8.10"
  }
 },
 "nbformat": 4,
 "nbformat_minor": 5
}
