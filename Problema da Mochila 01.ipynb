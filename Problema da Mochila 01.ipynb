{
 "cells": [
  {
   "cell_type": "code",
   "execution_count": 1,
   "id": "d076a69a",
   "metadata": {},
   "outputs": [
    {
     "name": "stdout",
     "output_type": "stream",
     "text": [
      "Welcome to the CBC MILP Solver \n",
      "Version: devel \n",
      "Build Date: Nov 15 2020 \n",
      "\n",
      "Starting solution of the Linear programming relaxation problem using Primal Simplex\n",
      "\n",
      "Coin0506I Presolve 1 (0) rows, 6 (0) columns and 6 (0) elements\n",
      "Clp1000I sum of infeasibilities 0 - average 0, 6 fixed columns\n",
      "Coin0506I Presolve 0 (-1) rows, 0 (-6) columns and 0 (-6) elements\n",
      "Clp0000I Optimal - objective value -0\n",
      "Clp0000I Optimal - objective value -0\n",
      "Coin0511I After Postsolve, objective 0, infeasibilities - dual 0 (0), primal 0 (0)\n",
      "Clp0000I Optimal - objective value 42.171429\n",
      "Clp0000I Optimal - objective value 42.171429\n",
      "Clp0000I Optimal - objective value 42.171429\n",
      "Clp0032I Optimal objective 42.17142857 - 0 iterations time 0.002, Idiot 0.00\n",
      "\n",
      "Starting MIP optimization\n",
      "selected items: [0, 3]\n"
     ]
    }
   ],
   "source": [
    "from mip import Model, xsum, maximize, BINARY\n",
    "\n",
    "p = [10, 13, 18, 31, 7, 15]\n",
    "w = [11, 15, 20, 35, 10, 33]\n",
    "c, I = 47, range(len(w))\n",
    "\n",
    "m = Model(\"Mochila\")\n",
    "\n",
    "x = [m.add_var(var_type=BINARY) for i in I]\n",
    "\n",
    "m.objective = maximize(xsum(p[i] * x[i] for i in I))\n",
    "\n",
    "m += xsum(w[i] * x[i] for i in I) <= c\n",
    "\n",
    "m.optimize()\n",
    "\n",
    "selected = [i for i in I if x[i].x >= 0.99]\n",
    "print(\"Itens selecionados: {}\".format(selected))"
   ]
  },
  {
   "cell_type": "code",
   "execution_count": null,
   "id": "0dea475c",
   "metadata": {},
   "outputs": [],
   "source": []
  }
 ],
 "metadata": {
  "kernelspec": {
   "display_name": "Python 3 (ipykernel)",
   "language": "python",
   "name": "python3"
  },
  "language_info": {
   "codemirror_mode": {
    "name": "ipython",
    "version": 3
   },
   "file_extension": ".py",
   "mimetype": "text/x-python",
   "name": "python",
   "nbconvert_exporter": "python",
   "pygments_lexer": "ipython3",
   "version": "3.8.10"
  }
 },
 "nbformat": 4,
 "nbformat_minor": 5
}
